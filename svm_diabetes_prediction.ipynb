{
 "cells": [
  {
   "cell_type": "code",
   "execution_count": 28,
   "id": "799fdc1c",
   "metadata": {},
   "outputs": [],
   "source": [
    "# 1. Import required libraries\n",
    "import pandas as pd\n",
    "import numpy as np\n",
    "from sklearn.model_selection import train_test_split\n",
    "from sklearn.preprocessing import StandardScaler\n",
    "from sklearn.svm import SVC\n",
    "from sklearn.metrics import accuracy_score, confusion_matrix, classification_report\n",
    "from sklearn.metrics import roc_curve, auc"
   ]
  },
  {
   "cell_type": "code",
   "execution_count": 5,
   "id": "efab61e7",
   "metadata": {},
   "outputs": [],
   "source": [
    "# 2. Load the dataset\n",
    "# Load Pima Indians Diabetes dataset and specify correct delimiter\n",
    "url = \"https://raw.githubusercontent.com/jbrownlee/Datasets/master/pima-indians-diabetes.data.csv\"\n",
    "columns = ['Pregnancies', 'Glucose', 'BloodPressure', 'SkinThickness', \n",
    "           'Insulin', 'BMI', 'DiabetesPedigreeFunction', 'Age', 'Outcome']\n",
    "data = pd.read_csv(url, header=None, names=columns)"
   ]
  },
  {
   "cell_type": "code",
   "execution_count": 6,
   "id": "676b1200",
   "metadata": {},
   "outputs": [],
   "source": [
    "# 3. Preprocess the data\n",
    "# Replace zeros with NaN where necessary and then handle missing values\n",
    "data[['Glucose', 'BloodPressure', 'SkinThickness', 'Insulin', 'BMI']] = data[['Glucose', 'BloodPressure', 'SkinThickness', 'Insulin', 'BMI']].replace(0, np.nan)\n",
    "\n",
    "# Fill missing values with the mean of the column\n",
    "data.fillna(data.mean(), inplace=True)\n",
    "\n",
    "# Split the data into features (X) and target (y)\n",
    "X = data.drop('Outcome', axis=1)\n",
    "y = data['Outcome']"
   ]
  },
  {
   "cell_type": "code",
   "execution_count": 7,
   "id": "33a7cca5",
   "metadata": {},
   "outputs": [],
   "source": [
    "# 4. Split the data into training and testing sets\n",
    "X_train, X_test, y_train, y_test = train_test_split(X, y, test_size=0.2, random_state=42)\n"
   ]
  },
  {
   "cell_type": "code",
   "execution_count": 8,
   "id": "c3c9f452",
   "metadata": {},
   "outputs": [],
   "source": [
    "# 5. Standardize the features\n",
    "scaler = StandardScaler()\n",
    "X_train = scaler.fit_transform(X_train)\n",
    "X_test = scaler.transform(X_test)"
   ]
  },
  {
   "cell_type": "code",
   "execution_count": 31,
   "id": "c232920f",
   "metadata": {},
   "outputs": [
    {
     "name": "stdout",
     "output_type": "stream",
     "text": [
      "Accuracy: 70.13%\n",
      "Confusion Matrix:\n",
      "[[68 31]\n",
      " [15 40]]\n",
      "Classification Report:\n",
      "              precision    recall  f1-score   support\n",
      "\n",
      "           0       0.82      0.69      0.75        99\n",
      "           1       0.56      0.73      0.63        55\n",
      "\n",
      "    accuracy                           0.70       154\n",
      "   macro avg       0.69      0.71      0.69       154\n",
      "weighted avg       0.73      0.70      0.71       154\n",
      "\n"
     ]
    }
   ],
   "source": [
    "# 6. Train an SVM model with linear kernel\n",
    "svm_model = SVC(kernel='linear', class_weight='balanced')  # Adjust for class imbalance\n",
    "svm_model.fit(X_train, y_train)\n",
    "\n",
    "# 7. Make predictions\n",
    "y_pred = svm_model.predict(X_test)\n",
    "\n",
    "# 8. Evaluate the model\n",
    "accuracy = accuracy_score(y_test, y_pred)\n",
    "conf_matrix = confusion_matrix(y_test, y_pred)\n",
    "class_report = classification_report(y_test, y_pred)\n",
    "\n",
    "print(f\"Accuracy: {accuracy * 100:.2f}%\")\n",
    "print(\"Confusion Matrix:\")\n",
    "print(conf_matrix)\n",
    "print(\"Classification Report:\")\n",
    "print(class_report)"
   ]
  },
  {
   "cell_type": "code",
   "execution_count": 26,
   "id": "5d86d14c",
   "metadata": {},
   "outputs": [
    {
     "name": "stdout",
     "output_type": "stream",
     "text": [
      "Accuracy: 72.08%\n",
      "Confusion Matrix:\n",
      "[[68 31]\n",
      " [12 43]]\n",
      "Classification Report:\n",
      "              precision    recall  f1-score   support\n",
      "\n",
      "           0       0.85      0.69      0.76        99\n",
      "           1       0.58      0.78      0.67        55\n",
      "\n",
      "    accuracy                           0.72       154\n",
      "   macro avg       0.72      0.73      0.71       154\n",
      "weighted avg       0.75      0.72      0.73       154\n",
      "\n"
     ]
    }
   ],
   "source": [
    "# 6. Train an SVM model with rbf kernel\n",
    "svm_model = SVC(kernel='rbf', class_weight='balanced')  # Adjust for class imbalance\n",
    "svm_model.fit(X_train, y_train)\n",
    "\n",
    "# 7. Make predictions\n",
    "y_pred = svm_model.predict(X_test)\n",
    "\n",
    "# 8. Evaluate the model\n",
    "accuracy = accuracy_score(y_test, y_pred)\n",
    "conf_matrix = confusion_matrix(y_test, y_pred)\n",
    "class_report = classification_report(y_test, y_pred)\n",
    "\n",
    "print(f\"Accuracy: {accuracy * 100:.2f}%\")\n",
    "print(\"Confusion Matrix:\")\n",
    "print(conf_matrix)\n",
    "print(\"Classification Report:\")\n",
    "print(class_report)"
   ]
  },
  {
   "cell_type": "code",
   "execution_count": 27,
   "id": "d97288f1",
   "metadata": {},
   "outputs": [
    {
     "name": "stdout",
     "output_type": "stream",
     "text": [
      "Accuracy: 78.57%\n",
      "Confusion Matrix:\n",
      "[[81 18]\n",
      " [15 40]]\n",
      "Classification Report:\n",
      "              precision    recall  f1-score   support\n",
      "\n",
      "           0       0.84      0.82      0.83        99\n",
      "           1       0.69      0.73      0.71        55\n",
      "\n",
      "    accuracy                           0.79       154\n",
      "   macro avg       0.77      0.77      0.77       154\n",
      "weighted avg       0.79      0.79      0.79       154\n",
      "\n"
     ]
    }
   ],
   "source": [
    "# 6. Train an SVM model with linear kernel\n",
    "svm_model = SVC(kernel='poly', class_weight='balanced')  # Adjust for class imbalance\n",
    "svm_model.fit(X_train, y_train)\n",
    "\n",
    "# 7. Make predictions\n",
    "y_pred = svm_model.predict(X_test)\n",
    "\n",
    "# 8. Evaluate the model\n",
    "accuracy = accuracy_score(y_test, y_pred)\n",
    "conf_matrix = confusion_matrix(y_test, y_pred)\n",
    "class_report = classification_report(y_test, y_pred)\n",
    "\n",
    "print(f\"Accuracy: {accuracy * 100:.2f}%\")\n",
    "print(\"Confusion Matrix:\")\n",
    "print(conf_matrix)\n",
    "print(\"Classification Report:\")\n",
    "print(class_report)"
   ]
  }
 ],
 "metadata": {
  "kernelspec": {
   "display_name": "Python 3 (ipykernel)",
   "language": "python",
   "name": "python3"
  },
  "language_info": {
   "codemirror_mode": {
    "name": "ipython",
    "version": 3
   },
   "file_extension": ".py",
   "mimetype": "text/x-python",
   "name": "python",
   "nbconvert_exporter": "python",
   "pygments_lexer": "ipython3",
   "version": "3.11.5"
  }
 },
 "nbformat": 4,
 "nbformat_minor": 5
}
